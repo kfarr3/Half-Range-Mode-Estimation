{
 "cells": [
  {
   "cell_type": "code",
   "execution_count": 94,
   "metadata": {
    "collapsed": true
   },
   "outputs": [],
   "source": [
    "from scipy.stats import norm\n",
    "import matplotlib.pyplot as plt\n",
    "import numpy as np\n",
    "import math\n",
    "\n",
    "%matplotlib inline\n"
   ]
  },
  {
   "cell_type": "code",
   "execution_count": 22,
   "metadata": {},
   "outputs": [],
   "source": [
    "mu, sigma = 0, 0.1 # mean and standard deviationr.sort()\n",
    "s = np.random.normal(mu, sigma, 1000)"
   ]
  },
  {
   "cell_type": "code",
   "execution_count": 25,
   "metadata": {},
   "outputs": [
    {
     "data": {
      "image/png": "[encoded data removed]",
      "text/plain": [
       "<matplotlib.figure.Figure at 0x1c3f0a086d8>"
      ]
     },
     "metadata": {},
     "output_type": "display_data"
    }
   ],
   "source": [
    "count, bins, ignored = plt.hist(s, 30, normed=True)\n",
    "plt.plot(bins, 1/(sigma * np.sqrt(2 * np.pi)) * np.exp( - (bins - mu)**2 / (2 * sigma**2) ), linewidth=2, color='r')\n",
    "plt.show()"
   ]
  },
  {
   "cell_type": "code",
   "execution_count": 28,
   "metadata": {},
   "outputs": [],
   "source": [
    "s.sort()\n"
   ]
  },
  {
   "cell_type": "code",
   "execution_count": 34,
   "metadata": {},
   "outputs": [
    {
     "data": {
      "text/plain": [
       "1"
      ]
     },
     "execution_count": 34,
     "metadata": {},
     "output_type": "execute_result"
    }
   ],
   "source": [
    "HRM(s, len(s))"
   ]
  },
  {
   "cell_type": "code",
   "execution_count": 193,
   "metadata": {},
   "outputs": [],
   "source": [
    "beta = 0.5\n",
    "\n",
    "# Example of [1,2,2,3,4]\n",
    "def HRM(v, N):\n",
    "    \n",
    "    print(\"\")\n",
    "    print(\"Starting with,\", v)\n",
    "    \n",
    "    # Step 2\n",
    "    if N == 1 or N == 2:\n",
    "        return v.mean()\n",
    "    \n",
    "    # Step 3\n",
    "    w = beta*(v[-1]-v[0]) # Pass 1: 1.5\n",
    "    print(\"w\", w)\n",
    "    \n",
    "\n",
    "    # Step 4\n",
    "    I=[]\n",
    "    for j in range(0, N-1): # j = 1 to N-1, paper is 1 based index\n",
    "        I.append((v[j], v[j]+w) )\n",
    "    I = np.array(I)\n",
    "    print('I',I) # Pass 1: [(1, 2.5), (2, 3.5), (2, 3.5), (3, 4.5)]\n",
    "    cnt = np.array([((rng[0] <= v) & (v <= rng[1])).sum() for rng in I])\n",
    "    print('cnt', cnt) # Pass 1: [3, 3, 3, 2]\n",
    "    N_prime = max(cnt)\n",
    "    print('N\\'', N_prime) # Pass 1: 0\n",
    "    \n",
    "    # Step 5\n",
    "    if (cnt == N_prime).sum() == 1:\n",
    "        print(\"doing step 5\")\n",
    "        J = I[np.where(cnt == N_prime)[0][0]]\n",
    "        print('J', J)\n",
    "\n",
    "        v = v[np.logical_and(v>=J[0], v<=J[1])]\n",
    "        print('v', v)\n",
    "        return HRM(v, len(v))\n",
    "        \n",
    "        \n",
    "    # Step 6\n",
    "    print(\"doing step 6\")\n",
    "    J = I[cnt == N_prime]\n",
    "    print('J', J)\n"
   ]
  },
  {
   "cell_type": "code",
   "execution_count": 194,
   "metadata": {},
   "outputs": [
    {
     "name": "stdout",
     "output_type": "stream",
     "text": [
      "\n",
      "Starting with, [1 1 1 1 2 3 3 3 3 3 3 3]\n",
      "w 1.0\n",
      "I [[ 1.  2.]\n",
      " [ 1.  2.]\n",
      " [ 1.  2.]\n",
      " [ 1.  2.]\n",
      " [ 2.  3.]\n",
      " [ 3.  4.]\n",
      " [ 3.  4.]\n",
      " [ 3.  4.]\n",
      " [ 3.  4.]]\n",
      "cnt [5 5 5 5 8 7 7 7 7]\n",
      "N' 8\n",
      "doing step 5\n",
      "J [ 2.  3.]\n",
      "v [2 3 3 3 3 3 3 3]\n",
      "\n",
      "Starting with, [2 3 3 3 3 3 3 3]\n",
      "w 0.5\n",
      "I [[ 2.   2.5]\n",
      " [ 3.   3.5]\n",
      " [ 3.   3.5]\n",
      " [ 3.   3.5]\n",
      " [ 3.   3.5]\n",
      " [ 3.   3.5]\n",
      " [ 3.   3.5]]\n",
      "cnt [1 7 7 7 7 7 7]\n",
      "N' 7\n",
      "doing step 6\n",
      "J [[ 3.   3.5]\n",
      " [ 3.   3.5]\n",
      " [ 3.   3.5]\n",
      " [ 3.   3.5]\n",
      " [ 3.   3.5]\n",
      " [ 3.   3.5]]\n"
     ]
    }
   ],
   "source": [
    "HRM(np.array([1,1,1,1,2,3,3,3,3,3,3,3]), 10)\n"
   ]
  },
  {
   "cell_type": "code",
   "execution_count": 130,
   "metadata": {},
   "outputs": [
    {
     "data": {
      "text/plain": [
       "2"
      ]
     },
     "execution_count": 130,
     "metadata": {},
     "output_type": "execute_result"
    }
   ],
   "source": [
    "v = np.array([1,2,2,3,4])\n",
    "test = (1, 2.5)\n",
    "\n",
    "(v == 2).sum()"
   ]
  }
 ],
 "metadata": {
  "kernelspec": {
   "display_name": "Python 3",
   "language": "python",
   "name": "python3"
  },
  "language_info": {
   "codemirror_mode": {
    "name": "ipython",
    "version": 3
   },
   "file_extension": ".py",
   "mimetype": "text/x-python",
   "name": "python",
   "nbconvert_exporter": "python",
   "pygments_lexer": "ipython3",
   "version": "3.6.4"
  }
 },
 "nbformat": 4,
 "nbformat_minor": 2
}
